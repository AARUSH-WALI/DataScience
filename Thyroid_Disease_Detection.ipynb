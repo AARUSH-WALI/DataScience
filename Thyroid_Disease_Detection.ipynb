{
 "cells": [
  {
   "cell_type": "code",
   "execution_count": 14,
   "metadata": {
    "id": "PfRTXzyjq4U5"
   },
   "outputs": [],
   "source": [
    "import pandas as pd\n",
    "import numpy as np\n",
    "import matplotlib.pyplot as plt\n",
    "import seaborn as sns\n",
    "%matplotlib inline\n",
    "from sklearn.metrics import confusion_matrix\n",
    "from sklearn.svm import SVC\n",
    "from sklearn.neighbors import KNeighborsClassifier\n",
    "from sklearn.tree import DecisionTreeClassifier\n",
    "from sklearn.ensemble import RandomForestClassifier\n",
    "import pickle\n",
    "from sklearn.utils import resample\n"
   ]
  },
  {
   "cell_type": "code",
   "execution_count": 16,
   "metadata": {
    "id": "Vdvt3IgwrYyO"
   },
   "outputs": [],
   "source": [
    "## Reading the data\n",
    "data = pd.read_csv('thyroid_data.csv')"
   ]
  },
  {
   "cell_type": "code",
   "execution_count": 18,
   "metadata": {
    "colab": {
     "base_uri": "https://localhost:8080/",
     "height": 478
    },
    "id": "QD37_I2prbbS",
    "outputId": "2aa879ba-3258-4ec3-ff67-fe792e45170d"
   },
   "outputs": [
    {
     "data": {
      "text/html": [
       "<div>\n",
       "<style scoped>\n",
       "    .dataframe tbody tr th:only-of-type {\n",
       "        vertical-align: middle;\n",
       "    }\n",
       "\n",
       "    .dataframe tbody tr th {\n",
       "        vertical-align: top;\n",
       "    }\n",
       "\n",
       "    .dataframe thead th {\n",
       "        text-align: right;\n",
       "    }\n",
       "</style>\n",
       "<table border=\"1\" class=\"dataframe\">\n",
       "  <thead>\n",
       "    <tr style=\"text-align: right;\">\n",
       "      <th></th>\n",
       "      <th>S.no</th>\n",
       "      <th>Age</th>\n",
       "      <th>Sex</th>\n",
       "      <th>On Thyroxine</th>\n",
       "      <th>Query on Thyroxine</th>\n",
       "      <th>On Antithyroid Medication</th>\n",
       "      <th>Sick</th>\n",
       "      <th>Pregnant</th>\n",
       "      <th>Thyroid Surgery</th>\n",
       "      <th>I131 Treatment</th>\n",
       "      <th>...</th>\n",
       "      <th>TSH</th>\n",
       "      <th>T3 Measured</th>\n",
       "      <th>T3</th>\n",
       "      <th>TT4 Measured</th>\n",
       "      <th>TT4</th>\n",
       "      <th>T4U Measured</th>\n",
       "      <th>T4U</th>\n",
       "      <th>FTI Measured</th>\n",
       "      <th>FTI</th>\n",
       "      <th>Category</th>\n",
       "    </tr>\n",
       "  </thead>\n",
       "  <tbody>\n",
       "    <tr>\n",
       "      <th>0</th>\n",
       "      <td>0</td>\n",
       "      <td>41</td>\n",
       "      <td>F</td>\n",
       "      <td>f</td>\n",
       "      <td>f</td>\n",
       "      <td>f</td>\n",
       "      <td>f</td>\n",
       "      <td>f</td>\n",
       "      <td>f</td>\n",
       "      <td>f</td>\n",
       "      <td>...</td>\n",
       "      <td>1.3</td>\n",
       "      <td>t</td>\n",
       "      <td>2.5</td>\n",
       "      <td>t</td>\n",
       "      <td>125</td>\n",
       "      <td>t</td>\n",
       "      <td>1.14</td>\n",
       "      <td>t</td>\n",
       "      <td>109</td>\n",
       "      <td>negative</td>\n",
       "    </tr>\n",
       "    <tr>\n",
       "      <th>1</th>\n",
       "      <td>1</td>\n",
       "      <td>23</td>\n",
       "      <td>F</td>\n",
       "      <td>f</td>\n",
       "      <td>f</td>\n",
       "      <td>f</td>\n",
       "      <td>f</td>\n",
       "      <td>f</td>\n",
       "      <td>f</td>\n",
       "      <td>f</td>\n",
       "      <td>...</td>\n",
       "      <td>4.1</td>\n",
       "      <td>t</td>\n",
       "      <td>2</td>\n",
       "      <td>t</td>\n",
       "      <td>102</td>\n",
       "      <td>f</td>\n",
       "      <td>?</td>\n",
       "      <td>f</td>\n",
       "      <td>?</td>\n",
       "      <td>negative</td>\n",
       "    </tr>\n",
       "    <tr>\n",
       "      <th>2</th>\n",
       "      <td>2</td>\n",
       "      <td>46</td>\n",
       "      <td>M</td>\n",
       "      <td>f</td>\n",
       "      <td>f</td>\n",
       "      <td>f</td>\n",
       "      <td>f</td>\n",
       "      <td>f</td>\n",
       "      <td>f</td>\n",
       "      <td>f</td>\n",
       "      <td>...</td>\n",
       "      <td>0.98</td>\n",
       "      <td>f</td>\n",
       "      <td>?</td>\n",
       "      <td>t</td>\n",
       "      <td>109</td>\n",
       "      <td>t</td>\n",
       "      <td>0.91</td>\n",
       "      <td>t</td>\n",
       "      <td>120</td>\n",
       "      <td>negative</td>\n",
       "    </tr>\n",
       "    <tr>\n",
       "      <th>3</th>\n",
       "      <td>3</td>\n",
       "      <td>70</td>\n",
       "      <td>F</td>\n",
       "      <td>t</td>\n",
       "      <td>f</td>\n",
       "      <td>f</td>\n",
       "      <td>f</td>\n",
       "      <td>f</td>\n",
       "      <td>f</td>\n",
       "      <td>f</td>\n",
       "      <td>...</td>\n",
       "      <td>0.16</td>\n",
       "      <td>t</td>\n",
       "      <td>1.9</td>\n",
       "      <td>t</td>\n",
       "      <td>175</td>\n",
       "      <td>f</td>\n",
       "      <td>?</td>\n",
       "      <td>f</td>\n",
       "      <td>?</td>\n",
       "      <td>negative</td>\n",
       "    </tr>\n",
       "    <tr>\n",
       "      <th>4</th>\n",
       "      <td>4</td>\n",
       "      <td>70</td>\n",
       "      <td>F</td>\n",
       "      <td>f</td>\n",
       "      <td>f</td>\n",
       "      <td>f</td>\n",
       "      <td>f</td>\n",
       "      <td>f</td>\n",
       "      <td>f</td>\n",
       "      <td>f</td>\n",
       "      <td>...</td>\n",
       "      <td>0.72</td>\n",
       "      <td>t</td>\n",
       "      <td>1.2</td>\n",
       "      <td>t</td>\n",
       "      <td>61</td>\n",
       "      <td>t</td>\n",
       "      <td>0.87</td>\n",
       "      <td>t</td>\n",
       "      <td>70</td>\n",
       "      <td>negative</td>\n",
       "    </tr>\n",
       "    <tr>\n",
       "      <th>...</th>\n",
       "      <td>...</td>\n",
       "      <td>...</td>\n",
       "      <td>...</td>\n",
       "      <td>...</td>\n",
       "      <td>...</td>\n",
       "      <td>...</td>\n",
       "      <td>...</td>\n",
       "      <td>...</td>\n",
       "      <td>...</td>\n",
       "      <td>...</td>\n",
       "      <td>...</td>\n",
       "      <td>...</td>\n",
       "      <td>...</td>\n",
       "      <td>...</td>\n",
       "      <td>...</td>\n",
       "      <td>...</td>\n",
       "      <td>...</td>\n",
       "      <td>...</td>\n",
       "      <td>...</td>\n",
       "      <td>...</td>\n",
       "      <td>...</td>\n",
       "    </tr>\n",
       "    <tr>\n",
       "      <th>3216</th>\n",
       "      <td>2774</td>\n",
       "      <td>82</td>\n",
       "      <td>M</td>\n",
       "      <td>f</td>\n",
       "      <td>f</td>\n",
       "      <td>f</td>\n",
       "      <td>f</td>\n",
       "      <td>f</td>\n",
       "      <td>f</td>\n",
       "      <td>f</td>\n",
       "      <td>...</td>\n",
       "      <td>2.2</td>\n",
       "      <td>t</td>\n",
       "      <td>1</td>\n",
       "      <td>t</td>\n",
       "      <td>68</td>\n",
       "      <td>t</td>\n",
       "      <td>0.77</td>\n",
       "      <td>t</td>\n",
       "      <td>88</td>\n",
       "      <td>sick</td>\n",
       "    </tr>\n",
       "    <tr>\n",
       "      <th>3217</th>\n",
       "      <td>2776</td>\n",
       "      <td>79</td>\n",
       "      <td>M</td>\n",
       "      <td>f</td>\n",
       "      <td>f</td>\n",
       "      <td>f</td>\n",
       "      <td>f</td>\n",
       "      <td>f</td>\n",
       "      <td>f</td>\n",
       "      <td>f</td>\n",
       "      <td>...</td>\n",
       "      <td>1.1</td>\n",
       "      <td>t</td>\n",
       "      <td>0.7</td>\n",
       "      <td>t</td>\n",
       "      <td>116</td>\n",
       "      <td>t</td>\n",
       "      <td>0.85</td>\n",
       "      <td>t</td>\n",
       "      <td>137</td>\n",
       "      <td>sick</td>\n",
       "    </tr>\n",
       "    <tr>\n",
       "      <th>3218</th>\n",
       "      <td>2782</td>\n",
       "      <td>50</td>\n",
       "      <td>F</td>\n",
       "      <td>f</td>\n",
       "      <td>f</td>\n",
       "      <td>f</td>\n",
       "      <td>f</td>\n",
       "      <td>f</td>\n",
       "      <td>f</td>\n",
       "      <td>f</td>\n",
       "      <td>...</td>\n",
       "      <td>4.8</td>\n",
       "      <td>t</td>\n",
       "      <td>0.6</td>\n",
       "      <td>t</td>\n",
       "      <td>98</td>\n",
       "      <td>t</td>\n",
       "      <td>0.8</td>\n",
       "      <td>t</td>\n",
       "      <td>122</td>\n",
       "      <td>sick</td>\n",
       "    </tr>\n",
       "    <tr>\n",
       "      <th>3219</th>\n",
       "      <td>2786</td>\n",
       "      <td>73</td>\n",
       "      <td>?</td>\n",
       "      <td>f</td>\n",
       "      <td>f</td>\n",
       "      <td>f</td>\n",
       "      <td>f</td>\n",
       "      <td>f</td>\n",
       "      <td>f</td>\n",
       "      <td>f</td>\n",
       "      <td>...</td>\n",
       "      <td>0.015</td>\n",
       "      <td>t</td>\n",
       "      <td>1.8</td>\n",
       "      <td>t</td>\n",
       "      <td>173</td>\n",
       "      <td>t</td>\n",
       "      <td>1</td>\n",
       "      <td>t</td>\n",
       "      <td>173</td>\n",
       "      <td>sick</td>\n",
       "    </tr>\n",
       "    <tr>\n",
       "      <th>3220</th>\n",
       "      <td>2796</td>\n",
       "      <td>73</td>\n",
       "      <td>M</td>\n",
       "      <td>f</td>\n",
       "      <td>t</td>\n",
       "      <td>f</td>\n",
       "      <td>f</td>\n",
       "      <td>f</td>\n",
       "      <td>f</td>\n",
       "      <td>f</td>\n",
       "      <td>...</td>\n",
       "      <td>?</td>\n",
       "      <td>t</td>\n",
       "      <td>0.7</td>\n",
       "      <td>t</td>\n",
       "      <td>63</td>\n",
       "      <td>t</td>\n",
       "      <td>0.88</td>\n",
       "      <td>t</td>\n",
       "      <td>72</td>\n",
       "      <td>sick</td>\n",
       "    </tr>\n",
       "  </tbody>\n",
       "</table>\n",
       "<p>3221 rows × 28 columns</p>\n",
       "</div>"
      ],
      "text/plain": [
       "      S.no Age Sex On Thyroxine Query on Thyroxine On Antithyroid Medication  \\\n",
       "0        0  41   F            f                  f                         f   \n",
       "1        1  23   F            f                  f                         f   \n",
       "2        2  46   M            f                  f                         f   \n",
       "3        3  70   F            t                  f                         f   \n",
       "4        4  70   F            f                  f                         f   \n",
       "...    ...  ..  ..          ...                ...                       ...   \n",
       "3216  2774  82   M            f                  f                         f   \n",
       "3217  2776  79   M            f                  f                         f   \n",
       "3218  2782  50   F            f                  f                         f   \n",
       "3219  2786  73   ?            f                  f                         f   \n",
       "3220  2796  73   M            f                  t                         f   \n",
       "\n",
       "     Sick Pregnant Thyroid Surgery I131 Treatment  ...    TSH T3 Measured  \\\n",
       "0       f        f               f              f  ...    1.3           t   \n",
       "1       f        f               f              f  ...    4.1           t   \n",
       "2       f        f               f              f  ...   0.98           f   \n",
       "3       f        f               f              f  ...   0.16           t   \n",
       "4       f        f               f              f  ...   0.72           t   \n",
       "...   ...      ...             ...            ...  ...    ...         ...   \n",
       "3216    f        f               f              f  ...    2.2           t   \n",
       "3217    f        f               f              f  ...    1.1           t   \n",
       "3218    f        f               f              f  ...    4.8           t   \n",
       "3219    f        f               f              f  ...  0.015           t   \n",
       "3220    f        f               f              f  ...      ?           t   \n",
       "\n",
       "       T3 TT4 Measured  TT4 T4U Measured   T4U FTI Measured  FTI  Category  \n",
       "0     2.5            t  125            t  1.14            t  109  negative  \n",
       "1       2            t  102            f     ?            f    ?  negative  \n",
       "2       ?            t  109            t  0.91            t  120  negative  \n",
       "3     1.9            t  175            f     ?            f    ?  negative  \n",
       "4     1.2            t   61            t  0.87            t   70  negative  \n",
       "...   ...          ...  ...          ...   ...          ...  ...       ...  \n",
       "3216    1            t   68            t  0.77            t   88      sick  \n",
       "3217  0.7            t  116            t  0.85            t  137      sick  \n",
       "3218  0.6            t   98            t   0.8            t  122      sick  \n",
       "3219  1.8            t  173            t     1            t  173      sick  \n",
       "3220  0.7            t   63            t  0.88            t   72      sick  \n",
       "\n",
       "[3221 rows x 28 columns]"
      ]
     },
     "execution_count": 18,
     "metadata": {},
     "output_type": "execute_result"
    }
   ],
   "source": [
    "## Print the first five rows of the data\n",
    "data"
   ]
  },
  {
   "cell_type": "code",
   "execution_count": 20,
   "metadata": {
    "colab": {
     "base_uri": "https://localhost:8080/"
    },
    "id": "iAuPfEVGreDf",
    "outputId": "b13f2297-e089-44aa-c667-953a31403896"
   },
   "outputs": [
    {
     "data": {
      "text/plain": [
       "(3221, 28)"
      ]
     },
     "execution_count": 20,
     "metadata": {},
     "output_type": "execute_result"
    }
   ],
   "source": [
    "data.shape"
   ]
  },
  {
   "cell_type": "code",
   "execution_count": 22,
   "metadata": {
    "colab": {
     "base_uri": "https://localhost:8080/"
    },
    "id": "U6xFEYrXrhZn",
    "outputId": "9cfde476-1845-4aeb-9248-845a636bda5b"
   },
   "outputs": [
    {
     "name": "stdout",
     "output_type": "stream",
     "text": [
      "No of hyperthyroid in Dataset: 77\n",
      "No of hypothyroid in Dataset: 220\n",
      "No of sick in Dataset: 171\n",
      "No of negative in Dataset: 2753\n"
     ]
    }
   ],
   "source": [
    "n = len(data[data['Category'] == 'hyperthyroid'])\n",
    "print(\"No of hyperthyroid in Dataset:\",n)\n",
    "\n",
    "n1 = len(data[data['Category'] == 'hypothyroid'])\n",
    "print(\"No of hypothyroid in Dataset:\",n1)\n",
    "\n",
    "n2 = len(data[data['Category'] == 'sick'])\n",
    "print(\"No of sick in Dataset:\",n2)\n",
    "\n",
    "n3 = len(data[data['Category'] == 'negative'])\n",
    "print(\"No of negative in Dataset:\",n3)"
   ]
  },
  {
   "cell_type": "code",
   "execution_count": 24,
   "metadata": {
    "colab": {
     "base_uri": "https://localhost:8080/"
    },
    "id": "m-2CMC-KrkLW",
    "outputId": "0ed1fb11-5c71-4e9f-c867-f849d0aaf8c9"
   },
   "outputs": [
    {
     "data": {
      "text/plain": [
       "Index(['S.no', 'Age', 'Sex', 'On Thyroxine', 'Query on Thyroxine',\n",
       "       'On Antithyroid Medication', 'Sick', 'Pregnant', 'Thyroid Surgery',\n",
       "       'I131 Treatment', 'Query Hypothyroid', 'Query Hyperthyroid', 'Lithium',\n",
       "       'Goitre', 'Tumor', 'Hypopituitary', 'Psych', 'TSH Measured', 'TSH',\n",
       "       'T3 Measured', 'T3', 'TT4 Measured', 'TT4', 'T4U Measured', 'T4U',\n",
       "       'FTI Measured', 'FTI', 'Category'],\n",
       "      dtype='object')"
      ]
     },
     "execution_count": 24,
     "metadata": {},
     "output_type": "execute_result"
    }
   ],
   "source": [
    "## Columns\n",
    "data.columns"
   ]
  },
  {
   "cell_type": "code",
   "execution_count": 26,
   "metadata": {
    "colab": {
     "base_uri": "https://localhost:8080/",
     "height": 962
    },
    "id": "KrGgqIEdrtED",
    "outputId": "cf606b76-1b25-4247-848d-28839ae0f1f7"
   },
   "outputs": [
    {
     "data": {
      "text/plain": [
       "S.no                         0\n",
       "Age                          0\n",
       "Sex                          0\n",
       "On Thyroxine                 0\n",
       "Query on Thyroxine           0\n",
       "On Antithyroid Medication    0\n",
       "Sick                         0\n",
       "Pregnant                     0\n",
       "Thyroid Surgery              0\n",
       "I131 Treatment               0\n",
       "Query Hypothyroid            0\n",
       "Query Hyperthyroid           0\n",
       "Lithium                      0\n",
       "Goitre                       0\n",
       "Tumor                        0\n",
       "Hypopituitary                0\n",
       "Psych                        0\n",
       "TSH Measured                 0\n",
       "TSH                          0\n",
       "T3 Measured                  0\n",
       "T3                           0\n",
       "TT4 Measured                 0\n",
       "TT4                          0\n",
       "T4U Measured                 0\n",
       "T4U                          0\n",
       "FTI Measured                 0\n",
       "FTI                          0\n",
       "Category                     0\n",
       "dtype: int64"
      ]
     },
     "execution_count": 26,
     "metadata": {},
     "output_type": "execute_result"
    }
   ],
   "source": [
    "## Checking the missing values\n",
    "data.isnull().sum()"
   ]
  },
  {
   "cell_type": "markdown",
   "metadata": {
    "id": "8xl51wTMr6KZ"
   },
   "source": [
    "We can see that there are no missing values. But if we see the dataset the missing values are replaced with the invalid values like '?'. Let's replace such values with 'nan' and check for the missing values again."
   ]
  },
  {
   "cell_type": "code",
   "execution_count": 29,
   "metadata": {
    "colab": {
     "base_uri": "https://localhost:8080/"
    },
    "id": "-hNysevCrwz9",
    "outputId": "392341b7-297a-466a-c9fb-e1e0d5e36b87"
   },
   "outputs": [
    {
     "name": "stdout",
     "output_type": "stream",
     "text": [
      "Age 1\n",
      "Sex 127\n",
      "TSH 247\n",
      "T3 589\n",
      "TT4 142\n",
      "T4U 276\n",
      "FTI 274\n"
     ]
    }
   ],
   "source": [
    "for column in data.columns:\n",
    "    count=data[column][data[column]=='?'].count()\n",
    "    if count != 0:\n",
    "        print(column,data[column][data[column]=='?'].count())"
   ]
  },
  {
   "cell_type": "code",
   "execution_count": 31,
   "metadata": {
    "id": "yfprNLgvr_xj"
   },
   "outputs": [],
   "source": [
    "## Let's drop some unnecessary columns\n",
    "data=data.drop([ 'S.no','On Thyroxine', 'Query on Thyroxine',\n",
    "       'On Antithyroid Medication',\n",
    "       'I131 Treatment', 'Query Hypothyroid', 'Query Hyperthyroid', 'Lithium',\n",
    "        'TSH Measured','Hypopituitary','Psych',\n",
    "       'T3 Measured',  'TT4 Measured', 'T4U Measured',\n",
    "       'FTI Measured'],axis=1)"
   ]
  },
  {
   "cell_type": "code",
   "execution_count": 33,
   "metadata": {
    "id": "otE4fWoQsEro"
   },
   "outputs": [],
   "source": [
    "## Now replace the '?' values with numpy nan\n",
    "for column in data.columns:\n",
    "    count=data[column][data[column]== '?'].count()\n",
    "    if count!=0:\n",
    "        data[column]=data[column].replace('?',np.nan)"
   ]
  },
  {
   "cell_type": "code",
   "execution_count": 35,
   "metadata": {
    "colab": {
     "base_uri": "https://localhost:8080/"
    },
    "id": "zFQxZ1qksHwH",
    "outputId": "f57add24-5216-4978-d00a-3fbcf6e140a6"
   },
   "outputs": [
    {
     "name": "stdout",
     "output_type": "stream",
     "text": [
      "Age 0\n",
      "Sex 0\n",
      "Sick 0\n",
      "Pregnant 0\n",
      "Thyroid Surgery 0\n",
      "Goitre 0\n",
      "Tumor 0\n",
      "TSH 0\n",
      "T3 0\n",
      "TT4 0\n",
      "T4U 0\n",
      "FTI 0\n",
      "Category 0\n"
     ]
    }
   ],
   "source": [
    "for column in data.columns:\n",
    "    count=data[column][data[column]=='?'].count()\n",
    "    if count == 0:\n",
    "        print(column,data[column][data[column]=='?'].count())"
   ]
  },
  {
   "cell_type": "markdown",
   "metadata": {
    "id": "6eMM3LRisNvB"
   },
   "source": [
    "So, we have replaced all such values with 'nan' values.\n",
    "\n"
   ]
  },
  {
   "cell_type": "code",
   "execution_count": 38,
   "metadata": {
    "colab": {
     "base_uri": "https://localhost:8080/"
    },
    "id": "OS5ZRWXcsV7V",
    "outputId": "adfd9d8b-091b-417e-82de-3dbdd7a7696f"
   },
   "outputs": [
    {
     "name": "stdout",
     "output_type": "stream",
     "text": [
      "Age ['41' '23' '46' '70' '18' '59' '80' '66' '68' '84' '67' '71' '28' '65'\n",
      " '42' '63' '51' '81' '54' '55' '60' '25' '73' '34' '78' '37' '85' '26'\n",
      " '58' '64' '44' '48' '61' '35' '83' '21' '87' '53' '77' '27' '69' '74'\n",
      " '38' '76' '45' '36' '22' '43' '72' '82' '31' '39' '49' '62' '57' '1' '50'\n",
      " '30' '29' '75' '19' '7' '79' '17' '24' '15' '32' '47' '16' '52' '33' '13'\n",
      " '10' '89' '56' '20' '90' '40' '88' '14' '86' '94' '12' '4' '11' '8' '5'\n",
      " '455' '2' '91' '6' nan '93' '92']\n",
      "Sex ['F' 'M' nan]\n",
      "Sick ['f' 't']\n",
      "Pregnant ['f' 't']\n",
      "Thyroid Surgery ['f' 't']\n",
      "Goitre ['f' 't']\n",
      "Tumor ['f' 't']\n",
      "TSH ['1.3' '4.1' '0.98' '0.16' '0.72' '0.03' nan '2.2' '0.6' '2.4' '1.1' '2.8'\n",
      " '3.3' '12' '1.2' '1.5' '6' '2.1' '0.1' '0.8' '1.9' '3.1' '0.2' '13' '0.3'\n",
      " '0.035' '2.5' '0.5' '1.7' '7.3' '1.8' '0.26' '45' '5.4' '0.99' '0.25'\n",
      " '0.92' '0.15' '0.64' '1' '0.4' '2' '2.6' '14.8' '15' '19' '0.02' '3'\n",
      " '2.9' '3.2' '9' '1.6' '4.3' '0.005' '0.31' '0.61' '0.05' '7.8' '160'\n",
      " '0.025' '1.4' '0.01' '8.8' '151' '0.04' '3.9' '9.4' '2.7' '2.3' '0.94'\n",
      " '0.045' '3.5' '0.88' '0.08' '4.5' '0.68' '0.7' '0.67' '27' '6.1' '0.75'\n",
      " '0.55' '26' '5.2' '0.77' '0.07' '0.9' '11.4' '143' '0.45' '0.57' '0.65'\n",
      " '0.015' '16' '108' '0.83' '9.2' '86' '0.62' '0.59' '9.1' '5.9' '52'\n",
      " '0.33' '31' '5.8' '0.28' '51' '6.3' '4.4' '9.6' '3.4' '0.09' '24' '0.76'\n",
      " '42' '25' '10' '4.6' '8.6' '0.66' '6.2' '0.79' '28' '0.86' '9.7' '0.84'\n",
      " '17' '18' '55' '14' '3.7' '0.87' '6.7' '0.74' '7.6' '0.065' '0.29' '0.37'\n",
      " '8' '11' '0.48' '44' '7.9' '5' '7.2' '0.89' '0.93' '0.97' '0.12' '6.4'\n",
      " '33' '0.85' '7.1' '0.73' '199' '8.2' '188' '0.22' '98' '22' '6.6' '5.1'\n",
      " '0.06' '0.42' '3.8' '35' '4' '0.78' '0.63' '0.52' '60' '0.43' '5.6' '6.9'\n",
      " '3.6' '29' '0.38' '4.9' '0.41' '9.9' '7.5' '34' '6.5' '4.7' '103' '0.95'\n",
      " '0.14' '0.35' '4.2' '0.81' '0.54' '0.58' '8.9' '5.5' '0.34' '9.3' '0.13'\n",
      " '54' '0.39' '8.3' '478' '21' '6.8' '0.32' '0.23' '0.24' '8.1' '0.91'\n",
      " '5.3' '100' '0.27' '1.01' '58' '41' '183' '18.4' '0.47' '0.17' '12.1'\n",
      " '0.19' '0.82' '43' '0.44' '70' '7.7' '8.4' '0.69' '8.5' '0.21' '82'\n",
      " '0.055' '0.96' '0.71' '38' '0.36' '9.8' '7' '0.46' '11.1' '39' '76' '5.7'\n",
      " '32' '126' '26.4' '0.53' '0.49' '36' '178' '145' '47' '4.8' '10.3' '89'\n",
      " '7.4' '472' '0.51' '116' '61' '99' '46' '78' '468']\n",
      "T3 ['2.5' '2' nan '1.9' '1.2' '0.6' '2.2' '1.6' '3.8' '1.7' '1.8' '2.6' '2.1'\n",
      " '0.3' '5.5' '1.4' '3.1' '1.5' '2.3' '2.4' '2.7' '0.9' '1' '2.8' '2.9'\n",
      " '0.8' '1.3' '0.4' '3.3' '3.5' '3.4' '1.1' '4.2' '3.7' '3' '0.7' '4.8'\n",
      " '4.3' '0.05' '3.2' '5.4' '4' '0.5' '0.2' '3.6' '5.2' '5' '6' '5.3' '3.9'\n",
      " '4.6' '4.5' '7.3' '4.7' '6.7' '4.1' '6.1' '0.1' '4.9' '10.6' '5.1' '7'\n",
      " '6.2' '4.4' '7.1']\n",
      "TT4 ['125' '102' '109' '175' '61' '183' '72' '80' '123' '83' '115' '152' '171'\n",
      " '97' '99' '70' '117' '121' '130' '108' '104' '134' '199' '57' '129' '113'\n",
      " '119' '84' '81' '95' '66' '101' '147' '120' '69' nan '39' '87' '63' '133'\n",
      " '86' '163' '162' '103' '96' '151' '112' '82' '138' '71' '77' '93' '107'\n",
      " '237' '110' '67' '88' '160' '118' '136' '114' '116' '94' '161' '11' '32'\n",
      " '124' '137' '92' '135' '105' '150' '126' '146' '91' '217' '141' '159'\n",
      " '122' '100' '111' '140' '205' '225' '85' '90' '74' '219' '127' '132'\n",
      " '128' '106' '144' '131' '56' '79' '142' '98' '177' '139' '78' '189' '180'\n",
      " '73' '145' '184' '38' '156' '75' '148' '14' '76' '54' '58' '27' '65'\n",
      " '193' '13' '143' '12' '64' '257' '164' '59' '167' '18' '41' '176' '37'\n",
      " '33' '44' '45' '154' '174' '203' '244' '62' '158' '60' '187' '250' '181'\n",
      " '157' '223' '272' '166' '213' '235' '10' '68' '231' '191' '48' '5.8'\n",
      " '169' '149' '210' '40' '155' '232' '42' '204' '430' '198' '230' '15'\n",
      " '170' '165' '47' '168' '194' '89' '52' '179' '192' '172' '4.8' '50' '182'\n",
      " '197' '214' '246' '196' '207' '19' '153' '22' '46' '200' '35' '226' '201'\n",
      " '233' '206' '31' '255' '178' '239' '195' '6' '36' '2' '3' '289' '240'\n",
      " '209' '43' '34' '252' '29' '263' '301' '23' '188' '211' '253' '21' '173']\n",
      "T4U ['1.14' nan '0.91' '0.87' '1.3' '0.92' '0.7' '0.93' '0.89' '0.95' '0.99'\n",
      " '1.13' '0.86' '0.96' '0.94' '0.9' '1.02' '1.05' '0.62' '1.06' '1.55'\n",
      " '0.83' '1.09' '1.07' '1.27' '0.76' '1.16' '1' '0.56' '0.81' '0.68' '0.78'\n",
      " '0.85' '1.35' '1.15' '0.82' '1.03' '1.58' '0.79' '1.17' '0.71' '0.72'\n",
      " '0.88' '1.11' '1.2' '1.1' '1.33' '0.77' '1.24' '0.53' '1.44' '1.63'\n",
      " '1.51' '1.42' '1.23' '1.01' '0.98' '0.61' '1.12' '1.43' '1.25' '1.41'\n",
      " '1.68' '0.97' '0.84' '0.8' '1.04' '0.73' '1.08' '1.26' '1.46' '1.29'\n",
      " '1.34' '1.66' '1.21' '1.19' '0.75' '0.52' '1.83' '1.39' '1.5' '1.93'\n",
      " '1.18' '0.74' '0.58' '1.82' '0.6' '1.67' '1.22' '0.66' '0.67' '1.31'\n",
      " '0.54' '1.77' '1.59' '1.97' '1.69' '1.38' '1.28' '1.4' '0.69' '0.65'\n",
      " '1.74' '2.03' '1.73' '1.65' '1.36' '1.52' '0.57' '1.53' '1.84' '1.57'\n",
      " '1.75' '1.32' '1.37' '0.64' '1.79' '1.8' '0.48' '1.71' '1.62' '1.76'\n",
      " '1.56' '1.48' '0.59' '0.31' '1.94' '2.12' '1.47' '0.63' '0.944' '0.49'\n",
      " '1.88' '0.5' '0.38' '1.49' '0.41' '1.61' '1.7']\n",
      "FTI ['109' nan '120' '70' '141' '78' '115' '132' '93' '121' '153' '151' '107'\n",
      " '119' '87' '81' '104' '130' '106' '116' '131' '190' '92' '102' '76' '98'\n",
      " '90' '61' '94' '129' '95' '91' '33' '113' '148' '140' '171' '155' '186'\n",
      " '122' '136' '110' '111' '97' '72' '100' '88' '67' '84' '103' '135' '203'\n",
      " '112' '117' '180' '142' '145' '156' '96' '134' '8.9' '60' '139' '41' '99'\n",
      " '89' '146' '124' '105' '85' '157' '143' '71' '221' '28' '108' '137' '83'\n",
      " '74' '170' '65' '101' '127' '274' '154' '114' '62' '86' '126' '125' '64'\n",
      " '172' '162' '79' '118' '73' '152' '163' '149' '14' '51' '165' '77' '32'\n",
      " '69' '80' '11' '54' '164' '123' '144' '10' '214' '200' '160' '53' '16'\n",
      " '138' '169' '56' '47' '133' '43' '68' '179' '224' '220' '82' '362' '182'\n",
      " '75' '66' '161' '57' '58' '312' '63' '128' '147' '158' '281' '207' '216'\n",
      " '251' '194' '46' '7' '42' '174' '395' '185' '13' '201' '48' '173' '167'\n",
      " '188' '150' '235' '175' '159' '5.4' '189' '59' '166' '34' '228' '232'\n",
      " '217' '177' '176' '195' '219' '17' '210' '168' '205' '39' '187' '50'\n",
      " '349' '52' '206' '253' '242' '244' '213' '178' '247' '215' '198' '19'\n",
      " '237' '37' '7.6' '24' '2' '3' '191' '223' '9' '29' '222' '204' '26' '218'\n",
      " '197' '49' '209' '183']\n",
      "Category ['negative' 'hyperthyroid' 'hypothyroid' 'sick']\n"
     ]
    }
   ],
   "source": [
    "##  Unique Values\n",
    "for column in data.columns:\n",
    "    print(column,(data[column].unique()))"
   ]
  },
  {
   "cell_type": "code",
   "execution_count": 40,
   "metadata": {
    "colab": {
     "base_uri": "https://localhost:8080/",
     "height": 491
    },
    "id": "oE5wTHmHsZzz",
    "outputId": "d1ddd266-a9d5-49d7-daa2-d53ea9af810f"
   },
   "outputs": [
    {
     "data": {
      "text/plain": [
       "Age                object\n",
       "Sex                object\n",
       "Sick               object\n",
       "Pregnant           object\n",
       "Thyroid Surgery    object\n",
       "Goitre             object\n",
       "Tumor              object\n",
       "TSH                object\n",
       "T3                 object\n",
       "TT4                object\n",
       "T4U                object\n",
       "FTI                object\n",
       "Category           object\n",
       "dtype: object"
      ]
     },
     "execution_count": 40,
     "metadata": {},
     "output_type": "execute_result"
    }
   ],
   "source": [
    "data.dtypes\n"
   ]
  },
  {
   "cell_type": "markdown",
   "metadata": {
    "id": "iwWP1x6DsgX6"
   },
   "source": [
    "Handling Missing Values\n"
   ]
  },
  {
   "cell_type": "code",
   "execution_count": 43,
   "metadata": {
    "id": "_wdPxwEWshPX"
   },
   "outputs": [],
   "source": [
    "data['Age'] = pd.to_numeric(data['Age'], errors='coerce')\n",
    "data['TSH'] = pd.to_numeric(data['TSH'], errors='coerce')\n",
    "data['T3'] = pd.to_numeric(data['T3'], errors='coerce')\n",
    "data['TT4'] = pd.to_numeric(data['TT4'], errors='coerce')\n",
    "data['T4U'] = pd.to_numeric(data['T4U'], errors='coerce')\n",
    "data['FTI'] = pd.to_numeric(data['FTI'], errors='coerce')\n",
    "\n",
    "\n",
    "data['Age'] = data['Age'].fillna(data['Age'].median())\n",
    "data['TSH'] = data['TSH'].fillna(data['TSH'].median())\n",
    "data['T3'] = data['T3'].fillna(data['T3'].median())\n",
    "data['TT4'] = data['TT4'].fillna(data['TT4'].median())\n",
    "data['T4U'] = data['T4U'].fillna(data['T4U'].median())\n",
    "data['FTI'] = data['FTI'].fillna(data['FTI'].median())\n"
   ]
  },
  {
   "cell_type": "markdown",
   "metadata": {
    "id": "kzoJQvYBtfTs"
   },
   "source": [
    "Handling nominal categorical variables\n"
   ]
  },
  {
   "cell_type": "code",
   "execution_count": 46,
   "metadata": {
    "colab": {
     "base_uri": "https://localhost:8080/"
    },
    "id": "890tJ_gbsklj",
    "outputId": "1cac0a78-9f98-436d-c593-065568a7c2b7"
   },
   "outputs": [
    {
     "data": {
      "text/plain": [
       "Index(['Age', 'Sex', 'Sick', 'Pregnant', 'Thyroid Surgery', 'Goitre', 'Tumor',\n",
       "       'TSH', 'T3', 'TT4', 'T4U', 'FTI', 'Category'],\n",
       "      dtype='object')"
      ]
     },
     "execution_count": 46,
     "metadata": {},
     "output_type": "execute_result"
    }
   ],
   "source": [
    "## We will perform one hot encoding for nominal categorical variable.\n",
    "sex = data[[\"Sex\"]]\n",
    "sex = pd.get_dummies(sex, drop_first= True)\n",
    "sick = data[[\"Sick\"]]\n",
    "sick = pd.get_dummies(sick, drop_first= True)\n",
    "pregnant = data[[\"Pregnant\"]]\n",
    "pregnant = pd.get_dummies(pregnant, drop_first= True)\n",
    "thyroid_surgery = data[[\"Thyroid Surgery\"]]\n",
    "thyroid_surgery = pd.get_dummies(thyroid_surgery, drop_first= True)\n",
    "goitre = data[[\"Goitre\"]]\n",
    "goitre = pd.get_dummies(goitre, drop_first= True)\n",
    "tumor = data[[\"Tumor\"]]\n",
    "tumor = pd.get_dummies(tumor, drop_first= True)\n",
    "data.columns"
   ]
  },
  {
   "cell_type": "code",
   "execution_count": 48,
   "metadata": {
    "colab": {
     "base_uri": "https://localhost:8080/"
    },
    "id": "J__M_54Btkpr",
    "outputId": "c02c9f44-9c2b-47ca-fa34-dc3e86b0fbd1"
   },
   "outputs": [
    {
     "data": {
      "text/plain": [
       "Index(['Age', 'Sex', 'Sick', 'Pregnant', 'Thyroid Surgery', 'Goitre', 'Tumor',\n",
       "       'TSH', 'T3', 'TT4', 'T4U', 'FTI', 'Category', 'Sex_M', 'Sick_t',\n",
       "       'Pregnant_t', 'Thyroid Surgery_t', 'Goitre_t', 'Tumor_t'],\n",
       "      dtype='object')"
      ]
     },
     "execution_count": 48,
     "metadata": {},
     "output_type": "execute_result"
    }
   ],
   "source": [
    "final_df = pd.concat([data,sex, sick, pregnant, thyroid_surgery,\n",
    "       goitre, tumor,], axis = 1)\n",
    "final_df.columns"
   ]
  },
  {
   "cell_type": "code",
   "execution_count": 50,
   "metadata": {
    "colab": {
     "base_uri": "https://localhost:8080/",
     "height": 491
    },
    "id": "gQGayObftpHt",
    "outputId": "74877cbc-8a59-46b0-e0b0-270084097f07"
   },
   "outputs": [
    {
     "data": {
      "text/plain": [
       "Age                  0\n",
       "TSH                  0\n",
       "T3                   0\n",
       "TT4                  0\n",
       "T4U                  0\n",
       "FTI                  0\n",
       "Category             0\n",
       "Sex_M                0\n",
       "Sick_t               0\n",
       "Pregnant_t           0\n",
       "Thyroid Surgery_t    0\n",
       "Goitre_t             0\n",
       "Tumor_t              0\n",
       "dtype: int64"
      ]
     },
     "execution_count": 50,
     "metadata": {},
     "output_type": "execute_result"
    }
   ],
   "source": [
    "final_df.drop(['Sex', 'Sick', 'Pregnant', 'Thyroid Surgery',\n",
    "       'Goitre', 'Tumor'], axis = 1, inplace = True)\n",
    "## Checking the missing values\n",
    "final_df.isnull().sum()"
   ]
  },
  {
   "cell_type": "markdown",
   "metadata": {
    "id": "ig0vVTASt3RZ"
   },
   "source": [
    "Great! Now the data has no missing values.\n"
   ]
  },
  {
   "cell_type": "code",
   "execution_count": 53,
   "metadata": {
    "colab": {
     "base_uri": "https://localhost:8080/",
     "height": 1000
    },
    "id": "By0bxpRwt1xz",
    "outputId": "f7eac76c-35c2-48c4-9438-440c7da3d695"
   },
   "outputs": [
    {
     "name": "stderr",
     "output_type": "stream",
     "text": [
      "C:\\Users\\aarus\\AppData\\Local\\Temp\\ipykernel_21852\\2146441441.py:9: UserWarning: \n",
      "\n",
      "`distplot` is a deprecated function and will be removed in seaborn v0.14.0.\n",
      "\n",
      "Please adapt your code to use either `displot` (a figure-level function with\n",
      "similar flexibility) or `histplot` (an axes-level function for histograms).\n",
      "\n",
      "For a guide to updating your code to use the new functions, please see\n",
      "https://gist.github.com/mwaskom/de44147ed2974457ad6372750bbe5751\n",
      "\n",
      "  sns.distplot(final_df[column])\n",
      "C:\\Users\\aarus\\AppData\\Local\\Temp\\ipykernel_21852\\2146441441.py:9: UserWarning: \n",
      "\n",
      "`distplot` is a deprecated function and will be removed in seaborn v0.14.0.\n",
      "\n",
      "Please adapt your code to use either `displot` (a figure-level function with\n",
      "similar flexibility) or `histplot` (an axes-level function for histograms).\n",
      "\n",
      "For a guide to updating your code to use the new functions, please see\n",
      "https://gist.github.com/mwaskom/de44147ed2974457ad6372750bbe5751\n",
      "\n",
      "  sns.distplot(final_df[column])\n",
      "C:\\Users\\aarus\\AppData\\Local\\Temp\\ipykernel_21852\\2146441441.py:9: UserWarning: \n",
      "\n",
      "`distplot` is a deprecated function and will be removed in seaborn v0.14.0.\n",
      "\n",
      "Please adapt your code to use either `displot` (a figure-level function with\n",
      "similar flexibility) or `histplot` (an axes-level function for histograms).\n",
      "\n",
      "For a guide to updating your code to use the new functions, please see\n",
      "https://gist.github.com/mwaskom/de44147ed2974457ad6372750bbe5751\n",
      "\n",
      "  sns.distplot(final_df[column])\n",
      "C:\\Users\\aarus\\AppData\\Local\\Temp\\ipykernel_21852\\2146441441.py:9: UserWarning: \n",
      "\n",
      "`distplot` is a deprecated function and will be removed in seaborn v0.14.0.\n",
      "\n",
      "Please adapt your code to use either `displot` (a figure-level function with\n",
      "similar flexibility) or `histplot` (an axes-level function for histograms).\n",
      "\n",
      "For a guide to updating your code to use the new functions, please see\n",
      "https://gist.github.com/mwaskom/de44147ed2974457ad6372750bbe5751\n",
      "\n",
      "  sns.distplot(final_df[column])\n",
      "C:\\Users\\aarus\\AppData\\Local\\Temp\\ipykernel_21852\\2146441441.py:9: UserWarning: \n",
      "\n",
      "`distplot` is a deprecated function and will be removed in seaborn v0.14.0.\n",
      "\n",
      "Please adapt your code to use either `displot` (a figure-level function with\n",
      "similar flexibility) or `histplot` (an axes-level function for histograms).\n",
      "\n",
      "For a guide to updating your code to use the new functions, please see\n",
      "https://gist.github.com/mwaskom/de44147ed2974457ad6372750bbe5751\n",
      "\n",
      "  sns.distplot(final_df[column])\n",
      "C:\\Users\\aarus\\AppData\\Local\\Temp\\ipykernel_21852\\2146441441.py:9: UserWarning: \n",
      "\n",
      "`distplot` is a deprecated function and will be removed in seaborn v0.14.0.\n",
      "\n",
      "Please adapt your code to use either `displot` (a figure-level function with\n",
      "similar flexibility) or `histplot` (an axes-level function for histograms).\n",
      "\n",
      "For a guide to updating your code to use the new functions, please see\n",
      "https://gist.github.com/mwaskom/de44147ed2974457ad6372750bbe5751\n",
      "\n",
      "  sns.distplot(final_df[column])\n"
     ]
    },
    {
     "data": {
      "image/png": "[encoded data removed]",
      "text/plain": [
       "<Figure size 1000x1500 with 6 Axes>"
      ]
     },
     "metadata": {},
     "output_type": "display_data"
    }
   ],
   "source": [
    "## Let's check the distribution for our continuous data in the dataset.\n",
    "columns = ['Age','TSH','T3','TT4','T4U','FTI']\n",
    "\n",
    "plt.figure(figsize=(10,15),facecolor='white')\n",
    "plotnumber = 1\n",
    "\n",
    "for column in columns:\n",
    "    ax = plt.subplot(3,2,plotnumber)\n",
    "    sns.distplot(final_df[column])\n",
    "    plt.xlabel(column,fontsize=10)\n",
    "    plotnumber+=1\n",
    "plt.show()"
   ]
  },
  {
   "cell_type": "markdown",
   "metadata": {
    "id": "vdcfwPB_uFh2"
   },
   "source": [
    "The graph TSH heavyly skewed towards left. We drop it.\n"
   ]
  },
  {
   "cell_type": "code",
   "execution_count": 56,
   "metadata": {
    "colab": {
     "base_uri": "https://localhost:8080/",
     "height": 447
    },
    "id": "sFF_Z0BGuHmm",
    "outputId": "f85eb525-bbfd-4e59-c378-0753233ff490"
   },
   "outputs": [
    {
     "data": {
      "text/plain": [
       "<Axes: ylabel='count'>"
      ]
     },
     "execution_count": 56,
     "metadata": {},
     "output_type": "execute_result"
    },
    {
     "data": {
      "image/png": "[encoded data removed]",
      "text/plain": [
       "<Figure size 640x480 with 1 Axes>"
      ]
     },
     "metadata": {},
     "output_type": "display_data"
    }
   ],
   "source": [
    "import pandas as pd\n",
    "# Assuming final_df is already defined\n",
    "# Check if 'TSH' exists before dropping\n",
    "if 'TSH' in final_df.columns:\n",
    "    final_df = final_df.drop(['TSH'], axis=1)\n",
    "else:\n",
    "    print(\"Column 'TSH' does not exist in the DataFrame.\")\n",
    "from sklearn.preprocessing import LabelEncoder\n",
    "lblEn=LabelEncoder()\n",
    "final_df['Category']=lblEn.fit_transform(final_df['Category'])\n",
    "sns.countplot(final_df['Category'])"
   ]
  },
  {
   "cell_type": "code",
   "execution_count": 57,
   "metadata": {},
   "outputs": [
    {
     "name": "stdout",
     "output_type": "stream",
     "text": [
      "{'hyperthyroid': 0, 'hypothyroid': 1, 'negative': 2, 'sick': 3}\n"
     ]
    }
   ],
   "source": [
    "# Check the mapping of labels to numbers\n",
    "category_mapping = dict(zip(lblEn.classes_, lblEn.transform(lblEn.classes_)))\n",
    "print(category_mapping)\n"
   ]
  },
  {
   "cell_type": "code",
   "execution_count": 58,
   "metadata": {
    "colab": {
     "base_uri": "https://localhost:8080/",
     "height": 482
    },
    "id": "mEkPWvFMuKiB",
    "outputId": "081a7315-fedd-48ae-debb-c11ba2210e70"
   },
   "outputs": [
    {
     "data": {
      "text/plain": [
       "Index(['Age', 'T3', 'TT4', 'T4U', 'FTI', 'Sex_M', 'Sick_t', 'Pregnant_t',\n",
       "       'Thyroid Surgery_t', 'Goitre_t', 'Tumor_t'],\n",
       "      dtype='object')"
      ]
     },
     "execution_count": 58,
     "metadata": {},
     "output_type": "execute_result"
    },
    {
     "data": {
      "image/png": "[encoded data removed]",
      "text/plain": [
       "<Figure size 640x480 with 1 Axes>"
      ]
     },
     "metadata": {},
     "output_type": "display_data"
    }
   ],
   "source": [
    "X=final_df.drop(['Category'],axis=1)\n",
    "y=final_df.Category\n",
    "# 42 input\n",
    "\n",
    "from imblearn.over_sampling import SMOTENC,RandomOverSampler,KMeansSMOTE\n",
    "\n",
    "\n",
    "rdsmple=RandomOverSampler()\n",
    "X_sampled,y_sampled=rdsmple.fit_resample(X,y)\n",
    "\n",
    "X_sampled.shape\n",
    "\n",
    "\n",
    "X_sampled=pd.DataFrame(data=X_sampled,columns=X.columns)\n",
    "\n",
    "\n",
    "X_sampled\n",
    "\n",
    "\n",
    "sns.countplot(y_sampled)\n",
    "\n",
    "\n",
    "X_sampled.columns"
   ]
  },
  {
   "cell_type": "code",
   "execution_count": 59,
   "metadata": {
    "id": "a5x6-4OJuclK"
   },
   "outputs": [],
   "source": [
    "from sklearn.model_selection import train_test_split\n",
    "X_train,X_test,y_train,y_test=train_test_split(X_sampled,y_sampled,test_size=0.2,random_state=0)"
   ]
  },
  {
   "cell_type": "code",
   "execution_count": 64,
   "metadata": {
    "id": "Yisy7EEau5Iz"
   },
   "outputs": [],
   "source": [
    "def svm_classifier(X_train,X_test,y_train,y_test):\n",
    "    classifier_svm=SVC(kernel='rbf',random_state=0)\n",
    "    classifier_svm.fit(X_train,y_train)\n",
    "    y_pred=classifier_svm.predict(X_test)\n",
    "    cm=confusion_matrix(y_test,y_pred)\n",
    "    return (f'Train Score:{classifier_svm.score(X_train,y_train)}\\n Test Score:{classifier_svm.score(X_test,y_test)}')"
   ]
  },
  {
   "cell_type": "code",
   "execution_count": 66,
   "metadata": {
    "id": "_X6pH-p3vPqQ"
   },
   "outputs": [],
   "source": [
    "def knn_classifier(X_train,X_test,y_train,y_test):\n",
    "    classifier_knn=KNeighborsClassifier(metric='minkowski',p=2)\n",
    "    classifier_knn.fit(X_train,y_train)\n",
    "    y_pred=classifier_knn.predict(X_test)\n",
    "    cm=confusion_matrix(y_test,y_pred)\n",
    "    return (f'Train Score:{classifier_knn.score(X_train,y_train)}\\n Test Score:{classifier_knn.score(X_test,y_test)}')"
   ]
  },
  {
   "cell_type": "code",
   "execution_count": 68,
   "metadata": {
    "id": "5Qqix8W4vRLZ"
   },
   "outputs": [],
   "source": [
    "def tree_classifier(X_train,X_test,y_train,y_test):\n",
    "    classifier_tree=DecisionTreeClassifier(criterion='entropy',random_state=0)\n",
    "    classifier_tree.fit(X_train,y_train)\n",
    "    y_pred=classifier_tree.predict(X_test)\n",
    "    cm=confusion_matrix(y_test,y_pred)\n",
    "    return (f'Train Score:{classifier_tree.score(X_train,y_train)}\\n Test Score:{classifier_tree.score(X_test,y_test)}')"
   ]
  },
  {
   "cell_type": "code",
   "execution_count": 70,
   "metadata": {
    "id": "RA_RBzbIvVSO"
   },
   "outputs": [],
   "source": [
    "def forest_classifier(X_train,X_test,y_train,y_test):\n",
    "    classifier_forest=RandomForestClassifier(criterion='entropy',random_state=0)\n",
    "    classifier_forest.fit(X_train,y_train)\n",
    "    y_pred=classifier_forest.predict(X_test)\n",
    "    cm=confusion_matrix(y_test,y_pred)\n",
    "    return (f'Train Score:{classifier_forest.score(X_train,y_train)}\\n Test Score:{classifier_forest.score(X_test,y_test)}')"
   ]
  },
  {
   "cell_type": "code",
   "execution_count": 72,
   "metadata": {
    "id": "0J2r0f9dvY4s"
   },
   "outputs": [],
   "source": [
    "def print_score(X_train, X_test, y_train, y_test):\n",
    "    print(\"SVM:\\n\")\n",
    "    result1=svm_classifier(X_train, X_test, y_train, y_test)\n",
    "    print(result1)\n",
    "    print(\"-\"*100)\n",
    "    print()\n",
    "\n",
    "    print(\"KNN:\\n\")\n",
    "    result2=knn_classifier(X_train, X_test, y_train, y_test)\n",
    "    print(result2)\n",
    "\n",
    "    print(\"-\"*100)\n",
    "    print()\n",
    "\n",
    "    print(\"Decision Tree:\\n\")\n",
    "    result4=tree_classifier(X_train, X_test, y_train, y_test)\n",
    "    print(result4)\n",
    "\n",
    "    print(\"-\"*100)\n",
    "    print()\n",
    "\n",
    "    print(\"Random Forest:\\n\")\n",
    "    result5=forest_classifier(X_train, X_test, y_train, y_test)\n",
    "    print(result5)"
   ]
  },
  {
   "cell_type": "code",
   "execution_count": 74,
   "metadata": {
    "colab": {
     "base_uri": "https://localhost:8080/"
    },
    "id": "f1oFFXpzviy2",
    "outputId": "9431ff41-88ff-4376-f022-6bc6351f8463"
   },
   "outputs": [
    {
     "name": "stdout",
     "output_type": "stream",
     "text": [
      "SVM:\n",
      "\n",
      "Train Score:0.6218640027244863\n",
      " Test Score:0.6250567408079891\n",
      "----------------------------------------------------------------------------------------------------\n",
      "\n",
      "KNN:\n",
      "\n",
      "Train Score:0.8694516971279374\n",
      " Test Score:0.8506581933726737\n",
      "----------------------------------------------------------------------------------------------------\n",
      "\n",
      "Decision Tree:\n",
      "\n",
      "Train Score:0.9186059711658531\n",
      " Test Score:0.8992283250113482\n",
      "----------------------------------------------------------------------------------------------------\n",
      "\n",
      "Random Forest:\n",
      "\n",
      "Train Score:0.9184924509024861\n",
      " Test Score:0.905583295506128\n"
     ]
    }
   ],
   "source": [
    "print_score(X_train, X_test, y_train, y_test)\n"
   ]
  },
  {
   "cell_type": "code",
   "execution_count": 75,
   "metadata": {
    "colab": {
     "base_uri": "https://localhost:8080/"
    },
    "id": "d2GEFexHvlu_",
    "outputId": "eab28104-a8bd-4d65-b65b-dd9313ddfe9c"
   },
   "outputs": [
    {
     "data": {
      "text/plain": [
       "array([[563,   0,   0,   0],\n",
       "       [  0, 505,   2,  46],\n",
       "       [ 20,  44, 427,  41],\n",
       "       [ 47,   4,   0, 504]], dtype=int64)"
      ]
     },
     "execution_count": 75,
     "metadata": {},
     "output_type": "execute_result"
    }
   ],
   "source": [
    "## Performance Metrics\n",
    "classifier_forest = RandomForestClassifier(criterion = 'entropy')\n",
    "classifier_forest.fit(X_train,y_train)\n",
    "y_pred = classifier_forest.predict(X_test)\n",
    "cm = confusion_matrix(y_test,y_pred)\n",
    "cm"
   ]
  },
  {
   "cell_type": "code",
   "execution_count": 76,
   "metadata": {
    "id": "A3IeU8JUvvoq"
   },
   "outputs": [],
   "source": [
    "## Classification Report (Accuracy, Precision, Recall and F1 Score)\n",
    "from sklearn.metrics import roc_auc_score,roc_curve,classification_report"
   ]
  },
  {
   "cell_type": "code",
   "execution_count": 80,
   "metadata": {
    "colab": {
     "base_uri": "https://localhost:8080/"
    },
    "id": "RtOGtDYWvyK_",
    "outputId": "55cfbe38-8567-4f55-ad4f-dd5ba6ffce68"
   },
   "outputs": [
    {
     "name": "stdout",
     "output_type": "stream",
     "text": [
      "              precision    recall  f1-score   support\n",
      "\n",
      "           0       0.89      1.00      0.94       563\n",
      "           1       0.91      0.91      0.91       553\n",
      "           2       1.00      0.80      0.89       532\n",
      "           3       0.85      0.91      0.88       555\n",
      "\n",
      "    accuracy                           0.91      2203\n",
      "   macro avg       0.91      0.91      0.91      2203\n",
      "weighted avg       0.91      0.91      0.91      2203\n",
      "\n"
     ]
    }
   ],
   "source": [
    "print(classification_report(y_test,y_pred))\n"
   ]
  },
  {
   "cell_type": "code",
   "execution_count": 82,
   "metadata": {
    "colab": {
     "base_uri": "https://localhost:8080/"
    },
    "id": "EmUwIIgKv1Yq",
    "outputId": "8b167041-a72a-4e3e-f32d-c0ad7c2d3dfd"
   },
   "outputs": [
    {
     "name": "stdout",
     "output_type": "stream",
     "text": [
      "0.9022599576927046\n"
     ]
    }
   ],
   "source": [
    "from sklearn.model_selection import cross_val_score\n",
    "accuracies = cross_val_score (estimator = classifier_forest, X=X_train,y=y_train,cv=10)\n",
    "print(accuracies.mean())"
   ]
  },
  {
   "cell_type": "code",
   "execution_count": 83,
   "metadata": {
    "id": "eD0n7HYHv35t"
   },
   "outputs": [],
   "source": [
    "import pickle\n",
    "filename = 'thyroid_model.pkl'\n",
    "pickle.dump(classifier_forest,open(filename,'wb'))"
   ]
  },
  {
   "cell_type": "code",
   "execution_count": 84,
   "metadata": {
    "id": "SMSAGDF_v_-l"
   },
   "outputs": [],
   "source": [
    "model = open('thyroid_model.pkl','rb')\n",
    "forest = pickle.load(model)"
   ]
  },
  {
   "cell_type": "code",
   "execution_count": 85,
   "metadata": {
    "id": "7dT3QGAhwD2Z"
   },
   "outputs": [],
   "source": [
    "y_pred = forest.predict(X_test)"
   ]
  },
  {
   "cell_type": "code",
   "execution_count": 86,
   "metadata": {
    "colab": {
     "base_uri": "https://localhost:8080/"
    },
    "id": "6rWb86uawFjn",
    "outputId": "89f23bc6-9733-484f-d682-ea85d4f1cef4"
   },
   "outputs": [
    {
     "data": {
      "text/plain": [
       "array([[563,   0,   0,   0],\n",
       "       [  0, 505,   2,  46],\n",
       "       [ 20,  44, 427,  41],\n",
       "       [ 47,   4,   0, 504]], dtype=int64)"
      ]
     },
     "execution_count": 86,
     "metadata": {},
     "output_type": "execute_result"
    }
   ],
   "source": [
    "confusion_matrix(y_test, y_pred)"
   ]
  },
  {
   "cell_type": "code",
   "execution_count": 92,
   "metadata": {
    "colab": {
     "base_uri": "https://localhost:8080/"
    },
    "id": "46bvcjMPwHfj",
    "outputId": "3bdaaf27-aa10-44fd-9251-236975c6ca70"
   },
   "outputs": [
    {
     "data": {
      "text/plain": [
       "Index(['Age', 'T3', 'TT4', 'T4U', 'FTI', 'Sex_M', 'Sick_t', 'Pregnant_t',\n",
       "       'Thyroid Surgery_t', 'Goitre_t', 'Tumor_t'],\n",
       "      dtype='object')"
      ]
     },
     "execution_count": 92,
     "metadata": {},
     "output_type": "execute_result"
    }
   ],
   "source": [
    "X.columns\n"
   ]
  },
  {
   "cell_type": "code",
   "execution_count": 94,
   "metadata": {
    "colab": {
     "base_uri": "https://localhost:8080/"
    },
    "id": "yyb-5j4PwJgC",
    "outputId": "7781d421-08dd-4f4b-97ab-b4f07ca91e6d"
   },
   "outputs": [
    {
     "name": "stdout",
     "output_type": "stream",
     "text": [
      "[2]\n"
     ]
    },
    {
     "name": "stderr",
     "output_type": "stream",
     "text": [
      "C:\\Users\\aarus\\anaconda3\\Lib\\site-packages\\sklearn\\base.py:464: UserWarning: X does not have valid feature names, but RandomForestClassifier was fitted with feature names\n",
      "  warnings.warn(\n"
     ]
    }
   ],
   "source": [
    "print(forest.predict([[41,2.5,125,1.14,109,0,0,0,0,0,0]]))\n"
   ]
  },
  {
   "cell_type": "code",
   "execution_count": 96,
   "metadata": {},
   "outputs": [
    {
     "name": "stdout",
     "output_type": "stream",
     "text": [
      "              Feature  Importance\n",
      "1                  T3    0.331679\n",
      "4                 FTI    0.234660\n",
      "2                 TT4    0.207207\n",
      "3                 T4U    0.097003\n",
      "0                 Age    0.086085\n",
      "10            Tumor_t    0.016482\n",
      "5               Sex_M    0.014674\n",
      "7          Pregnant_t    0.004865\n",
      "6              Sick_t    0.004747\n",
      "9            Goitre_t    0.001514\n",
      "8   Thyroid Surgery_t    0.001083\n"
     ]
    },
    {
     "name": "stderr",
     "output_type": "stream",
     "text": [
      "C:\\Users\\aarus\\AppData\\Local\\Temp\\ipykernel_21852\\3893533083.py:11: FutureWarning: \n",
      "\n",
      "Passing `palette` without assigning `hue` is deprecated and will be removed in v0.14.0. Assign the `y` variable to `hue` and set `legend=False` for the same effect.\n",
      "\n",
      "  sns.barplot(x='Importance', y='Feature', data=feature_importances, palette='viridis')\n"
     ]
    },
    {
     "data": {
      "image/png": "[encoded data removed]",
      "text/plain": [
       "<Figure size 1000x600 with 1 Axes>"
      ]
     },
     "metadata": {},
     "output_type": "display_data"
    }
   ],
   "source": [
    "feature_importances = pd.DataFrame({\n",
    "    'Feature': X.columns,\n",
    "    'Importance': forest.feature_importances_\n",
    "}).sort_values(by='Importance', ascending=False)\n",
    "\n",
    "# Display the feature importances\n",
    "print(feature_importances)\n",
    "\n",
    "# Plot feature importances\n",
    "plt.figure(figsize=(10, 6))\n",
    "sns.barplot(x='Importance', y='Feature', data=feature_importances, palette='viridis')\n",
    "plt.title('Feature Importance')\n",
    "plt.xlabel('Importance Score')\n",
    "plt.ylabel('Features')\n",
    "plt.tight_layout()\n",
    "plt.show()"
   ]
  },
  {
   "cell_type": "code",
   "execution_count": 98,
   "metadata": {},
   "outputs": [],
   "source": [
    "import pandas as pd\n",
    "\n",
    "# Map for converting prediction integers to labels\n",
    "label_map = {0: 'Hyperthyroid', 1: 'Hypothyroid', 2: 'Negative', 3: 'Sick'}\n",
    "\n",
    "def predict_thyroid_user_input():\n",
    "    # Prompt the user to enter values for each feature\n",
    "    age = float(input(\"Enter Age: \"))\n",
    "    T3 = float(input(\"Enter T3: \"))\n",
    "    TT4 = float(input(\"Enter TT4: \"))\n",
    "    T4U = float(input(\"Enter T4U: \"))\n",
    "    FTI = float(input(\"Enter FTI: \"))\n",
    "    sex_m = int(input(\"Enter Sex_M (1 for Male, 0 for Female): \"))\n",
    "    sick_t = int(input(\"Is Sick_t present? (1 for Yes, 0 for No): \"))\n",
    "    pregnant_t = int(input(\"Is Pregnant_t present? (1 for Yes, 0 for No): \"))\n",
    "    surgery_t = int(input(\"Has Thyroid Surgery_t been done? (1 for Yes, 0 for No): \"))\n",
    "    goitre_t = int(input(\"Is Goitre_t present? (1 for Yes, 0 for No): \"))\n",
    "    tumor_t = int(input(\"Is Tumor_t present? (1 for Yes, 0 for No): \"))\n",
    "    \n",
    "    # Define the feature names\n",
    "    feature_names = ['Age', 'T3', 'TT4', 'T4U', 'FTI', 'Sex_M', 'Sick_t', 'Pregnant_t', \n",
    "                     'Thyroid Surgery_t', 'Goitre_t', 'Tumor_t']\n",
    "    \n",
    "    # Create a DataFrame with the input data and feature names\n",
    "    input_data = pd.DataFrame([[age, T3, TT4, T4U, FTI, sex_m, sick_t, pregnant_t, \n",
    "                                surgery_t, goitre_t, tumor_t]], columns=feature_names)\n",
    "    \n",
    "    # Perform prediction using the pre-trained model\n",
    "    prediction = forest.predict(input_data)\n",
    "    \n",
    "    # Map the prediction integer to the corresponding label\n",
    "    prediction_label = label_map.get(prediction[0], \"Unknown\")\n",
    "    \n",
    "    # Display the prediction result\n",
    "    print(f\"Our prediction is: {prediction_label}\")"
   ]
  },
  {
   "cell_type": "code",
   "execution_count": 100,
   "metadata": {},
   "outputs": [
    {
     "name": "stdin",
     "output_type": "stream",
     "text": [
      "Enter Age:  26\n",
      "Enter T3:  1\n",
      "Enter TT4:  1\n",
      "Enter T4U:  1\n",
      "Enter FTI:  1\n",
      "Enter Sex_M (1 for Male, 0 for Female):  1\n",
      "Is Sick_t present? (1 for Yes, 0 for No):  1\n",
      "Is Pregnant_t present? (1 for Yes, 0 for No):  0\n",
      "Has Thyroid Surgery_t been done? (1 for Yes, 0 for No):  0\n",
      "Is Goitre_t present? (1 for Yes, 0 for No):  0\n",
      "Is Tumor_t present? (1 for Yes, 0 for No):  0\n"
     ]
    },
    {
     "name": "stdout",
     "output_type": "stream",
     "text": [
      "Our prediction is: Hypothyroid\n"
     ]
    }
   ],
   "source": [
    "# Call the function to take user inputs and make a prediction\n",
    "predict_thyroid_user_input()"
   ]
  },
  {
   "cell_type": "code",
   "execution_count": null,
   "metadata": {},
   "outputs": [],
   "source": []
  },
  {
   "cell_type": "code",
   "execution_count": null,
   "metadata": {},
   "outputs": [],
   "source": []
  },
  {
   "cell_type": "code",
   "execution_count": 69,
   "metadata": {},
   "outputs": [],
   "source": []
  },
  {
   "cell_type": "code",
   "execution_count": null,
   "metadata": {},
   "outputs": [],
   "source": []
  }
 ],
 "metadata": {
  "colab": {
   "provenance": []
  },
  "kernelspec": {
   "display_name": "Python 3 (ipykernel)",
   "language": "python",
   "name": "python3"
  },
  "language_info": {
   "codemirror_mode": {
    "name": "ipython",
    "version": 3
   },
   "file_extension": ".py",
   "mimetype": "text/x-python",
   "name": "python",
   "nbconvert_exporter": "python",
   "pygments_lexer": "ipython3",
   "version": "3.12.4"
  }
 },
 "nbformat": 4,
 "nbformat_minor": 4
}
